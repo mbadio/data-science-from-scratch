{
  "nbformat": 4,
  "nbformat_minor": 0,
  "metadata": {
    "colab": {
      "provenance": [],
      "include_colab_link": true
    },
    "kernelspec": {
      "name": "python3",
      "display_name": "Python 3"
    },
    "language_info": {
      "name": "python"
    }
  },
  "cells": [
    {
      "cell_type": "markdown",
      "metadata": {
        "id": "view-in-github",
        "colab_type": "text"
      },
      "source": [
        "<a href=\"https://colab.research.google.com/github/mbadio/data-science-from-scratch/blob/master/Dictionaries_and_my_friends.ipynb\" target=\"_parent\"><img src=\"https://colab.research.google.com/assets/colab-badge.svg\" alt=\"Open In Colab\"/></a>"
      ]
    },
    {
      "cell_type": "markdown",
      "source": [
        "# What is a Dictionary: Study these"
      ],
      "metadata": {
        "id": "5fuOgRjmMlFr"
      }
    },
    {
      "cell_type": "markdown",
      "source": [
        "\n",
        "*   A dictionary in Python is a collection of key-value pairs.\n",
        "*   Each key is unique and used to access its associated value.\n",
        "*   Dictionaries are unordered, meaning the order of elements is not guaranteed.\n",
        "*   Creating a Dictionary: You can create a dictionary using curly braces {}"
      ],
      "metadata": {
        "id": "vluH5mvVMsjV"
      }
    },
    {
      "cell_type": "code",
      "source": [
        "# Creating an empty dictionary\n",
        "my_dict = {}\n",
        "\n",
        "my_dict = {\"key1\": \"value1\", \"key2\": \"value2\"} #a dictionary\n"
      ],
      "metadata": {
        "id": "1ybF6PalMrmq"
      },
      "execution_count": null,
      "outputs": []
    },
    {
      "cell_type": "markdown",
      "source": [
        "### Accessing Values in a dictionary:\n",
        "\n",
        "To access a value in a dictionary, use square brackets [] with the key."
      ],
      "metadata": {
        "id": "lbHrNM0sNCtb"
      }
    },
    {
      "cell_type": "code",
      "source": [
        "value = my_dict[\"key1\"]\n",
        "print((value))\n"
      ],
      "metadata": {
        "id": "rCiQBesTMNfV"
      },
      "execution_count": null,
      "outputs": []
    },
    {
      "cell_type": "markdown",
      "source": [
        "### Modifying Values:\n",
        "\n",
        "You can change the value associated with a key in a dictionary."
      ],
      "metadata": {
        "id": "GsnHQoh2NKbN"
      }
    },
    {
      "cell_type": "code",
      "source": [
        "my_dict[\"key1\"] = \"new_value\"\n"
      ],
      "metadata": {
        "id": "mtbEmUOkNTKH"
      },
      "execution_count": null,
      "outputs": []
    },
    {
      "cell_type": "markdown",
      "source": [
        "### Adding Items:\n",
        "\n",
        "To add a new key-value pair to a dictionary, assign a value to a new key.\n",
        "\n"
      ],
      "metadata": {
        "id": "vV2p1rVsNQi6"
      }
    },
    {
      "cell_type": "code",
      "source": [
        "my_dict[\"key3\"] = \"value3\"\n"
      ],
      "metadata": {
        "id": "lLYZgw_3Njpz"
      },
      "execution_count": null,
      "outputs": []
    },
    {
      "cell_type": "markdown",
      "source": [
        "### Checking for Existence:\n",
        "\n",
        "You can check if a key exists in a dictionary using the in keyword."
      ],
      "metadata": {
        "id": "sbnwH6ngNmNl"
      }
    },
    {
      "cell_type": "code",
      "source": [
        "if \"key1\" in my_dict:\n",
        "    print(\"Key1 exists in the dictionary.\")\n"
      ],
      "metadata": {
        "id": "NolnF8nBN56V"
      },
      "execution_count": null,
      "outputs": []
    },
    {
      "cell_type": "markdown",
      "source": [
        "###  Dictionary Methods:\n",
        "\n",
        "* Dictionaries have several useful methods, including:\n",
        "* keys(): Returns a list of all keys.\n",
        "* values(): Returns a list of all values.\n",
        "* items(): Returns a list of key-value pairs (tuples).\n",
        "* get(key, default): Retrieves the value associated with a key, or a default value if the key does not exist.\n"
      ],
      "metadata": {
        "id": "xt7v3dgYNuiI"
      }
    },
    {
      "cell_type": "code",
      "source": [
        "keys = my_dict.keys()\n",
        "values = my_dict.values()"
      ],
      "metadata": {
        "id": "ot9PspuDNr9E"
      },
      "execution_count": null,
      "outputs": []
    },
    {
      "cell_type": "markdown",
      "source": [
        "# DO THIS :::: Code Along with the Video"
      ],
      "metadata": {
        "id": "NOGFnzCICik2"
      }
    },
    {
      "cell_type": "markdown",
      "source": [
        "Watch the video and code along with Bro Code.\n",
        "[Python dictionaries tutorial explained\n",
        "](https://youtu.be/wa1XcMSBWdA?si=85hR7ytKqbzdUgDG)"
      ],
      "metadata": {
        "id": "-98d-rj22d04"
      }
    },
    {
      "cell_type": "code",
      "source": [
        "#code here\n",
        "\n",
        "\n",
        "\n",
        "\n",
        "\n"
      ],
      "metadata": {
        "id": "VRjAPnbS2Rec"
      },
      "execution_count": null,
      "outputs": []
    },
    {
      "cell_type": "markdown",
      "source": [
        "### Dictionaries Example"
      ],
      "metadata": {
        "id": "wZdFTfscC0r_"
      }
    },
    {
      "cell_type": "code",
      "source": [
        "# Creating a dictionary with key-value pairs\n",
        "student_info = {\n",
        "    \"name\": \"John\",\n",
        "    \"age\": 25,\n",
        "    \"grade\": \"A\"\n",
        "}\n",
        "\n",
        "# Adding a new key-value pair\n",
        "student_info[\"city\"] = \"New York\"\n"
      ],
      "metadata": {
        "id": "ECHnstIJEfxH"
      },
      "execution_count": null,
      "outputs": []
    },
    {
      "cell_type": "code",
      "source": [
        "# Using the get() method to access a value\n",
        "age = student_info.get(\"age\")\n",
        "print(age)  # Output: 25"
      ],
      "metadata": {
        "id": "SkCkh7ByOgjJ"
      },
      "execution_count": null,
      "outputs": []
    },
    {
      "cell_type": "code",
      "source": [
        "# Accessing a value using its key\n",
        "name = student_info[\"name\"]\n",
        "print(name)  # Output: John"
      ],
      "metadata": {
        "id": "bhmNTnzRObF1"
      },
      "execution_count": null,
      "outputs": []
    },
    {
      "cell_type": "code",
      "source": [
        "# Using the \"in\" keyword\n",
        "if \"grade\" in student_info:\n",
        "    print(\"Grade is present.\")\n",
        "else:\n",
        "    print(\"Grade is not present.\")\n"
      ],
      "metadata": {
        "id": "vFPAYzNXEkmq"
      },
      "execution_count": null,
      "outputs": []
    },
    {
      "cell_type": "code",
      "source": [
        "# Removing a specific key-value pair\n",
        "del student_info[\"grade\"]\n",
        "\n",
        "# Removing a key-value pair and getting the value\n",
        "removed_age = student_info.pop(\"age\")\n",
        "\n",
        "# Clearing all key-value pairs in a dictionary\n",
        "student_info.clear()\n"
      ],
      "metadata": {
        "id": "xNRntpzMEnG2"
      },
      "execution_count": null,
      "outputs": []
    },
    {
      "cell_type": "code",
      "source": [
        "# Iterating through keys\n",
        "for key in student_info:\n",
        "    print(key)\n",
        "\n",
        "# Iterating through values\n",
        "for value in student_info.values():\n",
        "    print(value)\n",
        "\n",
        "# Iterating through key-value pairs\n",
        "for key, value in student_info.items():\n",
        "    print(key, value)\n"
      ],
      "metadata": {
        "id": "pRFEa4f_Ep2i"
      },
      "execution_count": null,
      "outputs": []
    },
    {
      "cell_type": "markdown",
      "source": [
        "# DO THIS:::::: Make the Code Better and add comments where the comments have been placed.\n",
        "\n",
        "\n",
        "---\n",
        "\n",
        "\n",
        "\n"
      ],
      "metadata": {
        "id": "19gNgHhxCLtd"
      }
    },
    {
      "cell_type": "markdown",
      "source": [
        "\n",
        "\n",
        "\n",
        "1.   Run the code below.\n",
        "1.   Look over the code and add comments where the comments have been placed.\n",
        "\n"
      ],
      "metadata": {
        "id": "9LOOCyhhpm6n"
      }
    },
    {
      "cell_type": "code",
      "execution_count": null,
      "metadata": {
        "colab": {
          "base_uri": "https://localhost:8080/"
        },
        "id": "w52duTcql2Gy",
        "outputId": "78dba693-fb16-460c-d7f7-49e98d0d4976",
        "collapsed": true
      },
      "outputs": [
        {
          "output_type": "stream",
          "name": "stdout",
          "text": [
            "Interviewing Person 1...\n",
            "What is your favorite color? bliue\n",
            "What is your favorite movie? pw\n",
            "What is your favorite book? gw\n",
            "Interviewing Person 2...\n",
            "What is your favorite color? red\n",
            "What is your favorite movie? pw\n",
            "What is your favorite book? d\n",
            "Interviewing Person 3...\n",
            "What is your favorite color? pink\n",
            "What is your favorite movie? g\n",
            "What is your favorite book? r\n",
            "\n",
            "Interview Results:\n",
            "{'id': 'Person 1', 'fav_color': 'bliue', 'fav_movie': 'pw', 'fav_book': 'gw'}\n",
            "{'id': 'Person 2', 'fav_color': 'red', 'fav_movie': 'pw', 'fav_book': 'd'}\n",
            "{'id': 'Person 3', 'fav_color': 'pink', 'fav_movie': 'g', 'fav_book': 'r'}\n",
            "\n",
            "The most common favorite color is: bliue\n"
          ]
        }
      ],
      "source": [
        "\n",
        "interviews = [] #\n",
        "\n",
        "\n",
        "def conduct_interview(person_id):\n",
        "    '''# EXPLAIN THIS FUNCTION'''\n",
        "\n",
        "    print(f\"Interviewing {person_id}...\")\n",
        "    fav_color = input(\"What is your favorite color? \")\n",
        "    fav_movie = input(\"What is your favorite movie? \")\n",
        "    fav_book = input(\"What is your favorite book? \")\n",
        "\n",
        "    #\n",
        "    interview_data = {\n",
        "        \"id\": person_id,\n",
        "        \"fav_color\": fav_color,\n",
        "        \"fav_movie\": fav_movie,\n",
        "        \"fav_book\": fav_book\n",
        "    }\n",
        "    return interview_data\n",
        "\n",
        "#\n",
        "for i in range(1, 4):\n",
        "    person_id = f\"Person {i}\"\n",
        "    interview_data = conduct_interview(person_id)\n",
        "    interviews.append(interview_data)\n",
        "\n",
        "#\n",
        "print(\"\\nInterview Results:\")\n",
        "for interview in interviews:\n",
        "    print(interview)\n",
        "\n",
        "\n",
        "color_counts = {} #\n",
        "#\n",
        "for interview in interviews:\n",
        "    color = interview[\"fav_color\"]\n",
        "    if color in color_counts:\n",
        "        color_counts[color] += 1\n",
        "    else:\n",
        "        color_counts[color] = 1\n",
        "\n",
        "#\n",
        "most_common_color = max(color_counts, key=color_counts.get)\n",
        "print(f\"\\nThe most common favorite color is: {most_common_color}\")\n"
      ]
    },
    {
      "cell_type": "markdown",
      "source": [
        "# DO THIS :::::: Copy the Code from above\n",
        "\n",
        "1.   Copy the code into another code block. So that you can make changes to the code.\n",
        "2.   Notice that the name of the person is not recorded.  Add code that will record the name of the person instead of 'person_id'\n",
        "2.   Change the keys WITH CODE - to make them more interesting to you and your interviewees.\n",
        "2.   What else can you do with this code? Make it better."
      ],
      "metadata": {
        "id": "6LX8LMpBP_SD"
      }
    },
    {
      "cell_type": "code",
      "source": [
        "#Copy the code above - fix it and make it better."
      ],
      "metadata": {
        "id": "NMkPAu8AuOiP"
      },
      "execution_count": null,
      "outputs": []
    },
    {
      "cell_type": "markdown",
      "source": [
        "# Use Flintk12 OR ChatGPT to generate your own code idea that uses dictionaries.DO not USE our idea!  "
      ],
      "metadata": {
        "id": "kxiwUMlpFf3p"
      }
    },
    {
      "cell_type": "code",
      "source": [],
      "metadata": {
        "id": "gXTuAk8_FzZd"
      },
      "execution_count": null,
      "outputs": []
    }
  ]
}